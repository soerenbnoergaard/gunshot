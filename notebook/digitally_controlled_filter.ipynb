{
 "cells": [
  {
   "cell_type": "markdown",
   "metadata": {},
   "source": [
    "# Digitally controlled filter\n",
    "\n",
    "Requirements:\n",
    "\n",
    "- Input: float frequency_Hz, float sample_rate_Hz.\n",
    "- Must be automatable (i.e. real time coefficient calculations).\n",
    "- Must work as both a high-pass and low-pass filter.\n",
    "\n",
    "References:\n",
    "\n",
    "- Basic filter structure from Stilson and Smith 1996 Analyzing the Moog VCF with Considerations for Digital Implementation\n",
    "- Referred to in Valimaki 2006 Oscillator and Filter Algorithms for Virtual Analog Synthesis page 26."
   ]
  },
  {
   "cell_type": "code",
   "execution_count": 19,
   "metadata": {},
   "outputs": [],
   "source": [
    "import numpy as np\n",
    "import matplotlib.pyplot as plt\n",
    "import scipy.signal\n",
    "\n",
    "SAMPLE_RATE_Hz = 44100\n",
    "F_START_Hz = 20\n",
    "F_STOP_Hz = 20e3\n",
    "AMPLITUDE = 1.0\n",
    "DURATION_s = 10.0\n",
    "\n",
    "HP_TARGET_Hz = 5000.0\n",
    "LP_TARGET_Hz = 15000.0"
   ]
  },
  {
   "cell_type": "code",
   "execution_count": 47,
   "metadata": {},
   "outputs": [
    {
     "name": "stdout",
     "output_type": "stream",
     "text": [
      "0.21194122388244777\n",
      "0.02\n",
      "0.8\n"
     ]
    }
   ],
   "source": [
    "b = 0.02\n",
    "a = (0.8-b) / (127*127)\n",
    "print(a*63*63 + b)\n",
    "print(a*0*0 + b)\n",
    "print(a*127*127 + b)"
   ]
  },
  {
   "cell_type": "code",
   "execution_count": 48,
   "metadata": {},
   "outputs": [],
   "source": [
    "def get_chirp_frequency():\n",
    "    return np.linspace(F_START_Hz, F_STOP_Hz, int(DURATION_s*SAMPLE_RATE_Hz))\n",
    "    \n",
    "def get_chirp():\n",
    "    t = np.arange(int(DURATION_s*SAMPLE_RATE_Hz))/SAMPLE_RATE_Hz\n",
    "    x = AMPLITUDE * scipy.signal.chirp(t, f0=F_START_Hz, f1=F_STOP_Hz, t1=max(t), method=\"linear\")\n",
    "    return np.array(x, dtype=float)"
   ]
  },
  {
   "cell_type": "code",
   "execution_count": 53,
   "metadata": {},
   "outputs": [],
   "source": [
    "def onepole(x, g, x1, y1):\n",
    "    v = 0.8*x + 0.2*x1\n",
    "    return (v-y1)*g + y1\n",
    "\n",
    "def lp_filter(x_all, g):\n",
    "    w = np.zeros(5) # Current sample\n",
    "    w1 = np.zeros(5) # Delay line (must be static)\n",
    "    y_all = np.zeros(len(x_all), dtype=float)\n",
    "    \n",
    "    for n in range(len(x_all)):\n",
    "        w[0] = x[n]\n",
    "        w[1] = onepole(w[0], g, w1[0], w1[1])\n",
    "        w[2] = onepole(w[1], g, w1[1], w1[2])\n",
    "        w[3] = onepole(w[2], g, w1[2], w1[3])\n",
    "        w[4] = onepole(w[3], g, w1[3], w1[4])\n",
    "\n",
    "        y_all[n] = w[4]\n",
    "        \n",
    "        # Update delay line\n",
    "        for n in range(5):\n",
    "            w1[n] = w[n]\n",
    "    \n",
    "    return y_all"
   ]
  },
  {
   "cell_type": "code",
   "execution_count": 64,
   "metadata": {},
   "outputs": [
    {
     "data": {
      "image/png": "[encoded data removed]",
      "text/plain": [
       "<Figure size 432x288 with 1 Axes>"
      ]
     },
     "metadata": {
      "needs_background": "light"
     },
     "output_type": "display_data"
    }
   ],
   "source": [
    "f = get_chirp_frequency()\n",
    "x = get_chirp()\n",
    "y1 = lp_filter(x, g=0.99)\n",
    "\n",
    "p = lambda X: plt.plot(f, np.log10(np.abs(X)))\n",
    "p(x)\n",
    "p(y1)\n",
    "\n",
    "for marker in [HP_TARGET_Hz, LP_TARGET_Hz]:\n",
    "    plt.axvline(marker, color=\"black\", linestyle=\"--\")"
   ]
  },
  {
   "cell_type": "code",
   "execution_count": null,
   "metadata": {},
   "outputs": [],
   "source": []
  }
 ],
 "metadata": {
  "kernelspec": {
   "display_name": "Python 3",
   "language": "python",
   "name": "python3"
  },
  "language_info": {
   "codemirror_mode": {
    "name": "ipython",
    "version": 3
   },
   "file_extension": ".py",
   "mimetype": "text/x-python",
   "name": "python",
   "nbconvert_exporter": "python",
   "pygments_lexer": "ipython3",
   "version": "3.6.9"
  },
  "toc": {
   "base_numbering": 1,
   "nav_menu": {},
   "number_sections": true,
   "sideBar": true,
   "skip_h1_title": false,
   "title_cell": "Table of Contents",
   "title_sidebar": "Contents",
   "toc_cell": false,
   "toc_position": {},
   "toc_section_display": true,
   "toc_window_display": false
  }
 },
 "nbformat": 4,
 "nbformat_minor": 2
}
