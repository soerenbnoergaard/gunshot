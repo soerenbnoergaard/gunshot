{
 "cells": [
  {
   "cell_type": "markdown",
   "metadata": {},
   "source": [
    "# Digitally controlled filter\n",
    "\n",
    "Requirements:\n",
    "\n",
    "- Input: float frequency_Hz, float sample_rate_Hz.\n",
    "- Must be automatable (i.e. real time coefficient calculations).\n",
    "- Must work as both a high-pass and low-pass filter.\n",
    "\n",
    "References:\n",
    "\n",
    "- [Apogee Filter Design Equations](http://www.apogeebio.com/ddx/PDFs/AN-06.pdf)"
   ]
  },
  {
   "cell_type": "code",
   "execution_count": 100,
   "metadata": {},
   "outputs": [],
   "source": [
    "import numpy as np\n",
    "import matplotlib.pyplot as plt\n",
    "import scipy.signal\n",
    "\n",
    "SAMPLE_RATE_Hz = 44100\n",
    "F_START_Hz = 20\n",
    "F_STOP_Hz = 20e3\n",
    "AMPLITUDE = 1.0\n",
    "DURATION_s = 3.0\n",
    "\n",
    "HP_TARGET_Hz = 5000.0\n",
    "LP_TARGET_Hz = 15000.0"
   ]
  },
  {
   "cell_type": "code",
   "execution_count": 101,
   "metadata": {},
   "outputs": [],
   "source": [
    "def get_chirp_frequency():\n",
    "    return np.linspace(F_START_Hz, F_STOP_Hz, int(DURATION_s*SAMPLE_RATE_Hz))\n",
    "    \n",
    "def get_chirp():\n",
    "    t = np.arange(int(DURATION_s*SAMPLE_RATE_Hz))/SAMPLE_RATE_Hz\n",
    "    x = AMPLITUDE * scipy.signal.chirp(t, f0=F_START_Hz, f1=F_STOP_Hz, t1=max(t), method=\"linear\")\n",
    "    return np.array(x, dtype=float)"
   ]
  },
  {
   "cell_type": "code",
   "execution_count": 147,
   "metadata": {},
   "outputs": [],
   "source": [
    "def calculate_coeffs(fc, low_pass=True):\n",
    "    # Apogee Filter Design Equations\n",
    "    Q = np.sqrt(1/2)\n",
    "    fs = SAMPLE_RATE_Hz\n",
    "    \n",
    "    wc = 2*np.pi*fc/fs\n",
    "    wS = np.sin(wc)\n",
    "    wC = np.cos(wc)\n",
    "    alpha = wS/(2*Q)\n",
    "    \n",
    "    a = np.zeros(3)\n",
    "    b = np.zeros(3)\n",
    "    \n",
    "    a[0] = 1+alpha\n",
    "    a[1] = -2*wC\n",
    "    a[2] = 1-alpha\n",
    "    \n",
    "    if low_pass:\n",
    "        b[0] = (1-wC)/2\n",
    "        b[1] = 1-wC\n",
    "        b[2] = b[0]\n",
    "    else:\n",
    "        b[0] = (1+wC)/2\n",
    "        b[1] = -(1+wC)\n",
    "        b[2] = b[0]\n",
    "\n",
    "    return b, a\n",
    "    \n",
    "def apply_filter_lfilter(b, a, x_all):\n",
    "    return scipy.signal.lfilter(b, a, x_all)\n",
    "\n",
    "def apply_filter(b, a, x_all):\n",
    "    N = len(x_all)\n",
    "    y_all = np.zeros(N)\n",
    "    \n",
    "    # Delay lines (higher index -> higher delay)\n",
    "    x = [0, 0, 0]\n",
    "    y = [0, 0, 0]\n",
    "    \n",
    "    for n in range(N):\n",
    "        x[0] = x_all[n]\n",
    "        y[0] = b[0]*x[0] + b[1]*x[1] + b[2]*x[2] - a[1]*y[1] - a[2]*y[2]\n",
    "        y[0] /= a[0]\n",
    "        y_all[n] = y[0]\n",
    "        \n",
    "        x[2] = x[1]\n",
    "        x[1] = x[0]\n",
    "        \n",
    "        y[2] = y[1]\n",
    "        y[1] = y[0]\n",
    "    \n",
    "    return y_all\n",
    "\n",
    "def lp_filter(x_all, fc):\n",
    "    b, a = calculate_coeffs(fc, low_pass=True)\n",
    "    return apply_filter(b, a, x_all)\n",
    "\n",
    "def hp_filter(x_all, fc):\n",
    "    b, a = calculate_coeffs(fc, low_pass=False)\n",
    "    return apply_filter(b, a, x_all)"
   ]
  },
  {
   "cell_type": "code",
   "execution_count": 148,
   "metadata": {},
   "outputs": [
    {
     "data": {
      "image/png": "[encoded data removed]",
      "text/plain": [
       "<Figure size 576x576 with 2 Axes>"
      ]
     },
     "metadata": {
      "needs_background": "light"
     },
     "output_type": "display_data"
    }
   ],
   "source": [
    "f = get_chirp_frequency()\n",
    "x = get_chirp()\n",
    "y1 = lp_filter(x, fc=LP_TARGET_Hz)\n",
    "y2 = hp_filter(x, fc=HP_TARGET_Hz)\n",
    "\n",
    "p = lambda ax, X: ax.plot(f, 20.0*np.ma.log10(np.abs(X)))\n",
    "\n",
    "fig, [ax1, ax2] = plt.subplots(2, 1, figsize=[8, 8])\n",
    "p(ax1, y1)\n",
    "p(ax2, y2)\n",
    "\n",
    "for ax in [ax1, ax2]:\n",
    "    for marker in [HP_TARGET_Hz, LP_TARGET_Hz]:\n",
    "        ax.axvline(marker, color=\"black\", linestyle=\"--\")\n",
    "\n",
    "    ax.axhline(-3, color=\"black\", linestyle=\"--\")\n",
    "    ax.set_ylim(-18,3)"
   ]
  }
 ],
 "metadata": {
  "kernelspec": {
   "display_name": "Python 3",
   "language": "python",
   "name": "python3"
  },
  "language_info": {
   "codemirror_mode": {
    "name": "ipython",
    "version": 3
   },
   "file_extension": ".py",
   "mimetype": "text/x-python",
   "name": "python",
   "nbconvert_exporter": "python",
   "pygments_lexer": "ipython3",
   "version": "3.6.9"
  },
  "toc": {
   "base_numbering": 1,
   "nav_menu": {},
   "number_sections": true,
   "sideBar": true,
   "skip_h1_title": false,
   "title_cell": "Table of Contents",
   "title_sidebar": "Contents",
   "toc_cell": false,
   "toc_position": {},
   "toc_section_display": true,
   "toc_window_display": false
  }
 },
 "nbformat": 4,
 "nbformat_minor": 2
}
